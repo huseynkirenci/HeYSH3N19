{
 "cells": [
  {
   "cell_type": "code",
   "execution_count": 7,
   "metadata": {},
   "outputs": [
    {
     "name": "stdout",
     "output_type": "stream",
     "text": [
      "Bir Değer Giriniz: 16\n",
      "Tam Bölenler  [2, 4, 8, 16]\n",
      "Bir Değer Giriniz: q\n",
      "Çıkış Yapılıyor...\n",
      "Çıkış Yapıldı.\n"
     ]
    }
   ],
   "source": [
    "def tam_bölenler(sayi):\n",
    "    tamBölenler_listesi = []\n",
    "    \n",
    "    \n",
    "    for i in range(2,sayi+1):\n",
    "        if sayi % i == 0:\n",
    "            tamBölenler_listesi.append(i)\n",
    "    return tamBölenler_listesi\n",
    "while True:\n",
    "    sayi = input(\"Bir Değer Giriniz: \")\n",
    "    if sayi == \"q\":\n",
    "        print(\"Çıkış Yapılıyor...\")\n",
    "        print(\"Çıkış Yapıldı.\")\n",
    "        break\n",
    "    else:\n",
    "        sayi = int(sayi)\n",
    "        tam_bölenler(sayi)\n",
    "        print(\"Tam Bölenler \",tam_bölenler(sayi))"
   ]
  },
  {
   "cell_type": "code",
   "execution_count": 29,
   "metadata": {},
   "outputs": [
    {
     "name": "stdout",
     "output_type": "stream",
     "text": [
      "1 ile 100 sayı arasında bir değer giriniz.50\n",
      "Daha Yüksek Bir Sayı Giriniz.\n",
      "1 ile 100 sayı arasında bir değer giriniz.80\n",
      "Daha Düşük Bir Sayı Giriniz.\n",
      "1 ile 100 sayı arasında bir değer giriniz.70\n",
      "Daha Yüksek Bir Sayı Giriniz.\n",
      "1 ile 100 sayı arasında bir değer giriniz.75\n",
      "Daha Düşük Bir Sayı Giriniz.\n",
      "1 ile 100 sayı arasında bir değer giriniz.73\n",
      "Daha Düşük Bir Sayı Giriniz.\n",
      "1 ile 100 sayı arasında bir değer giriniz.71\n",
      "Tebrikler Oynu kazandınız.\n"
     ]
    }
   ],
   "source": [
    "from random import randint\n",
    "rand = randint(1,100)\n",
    "sayac = 0\n",
    "while True:\n",
    "    sayac += 1\n",
    "    sayi = input(\"1 ile 100 sayı arasında bir değer giriniz : \")\n",
    "    if int(sayi) == 0 :\n",
    "        print(\"Oyun İptal\")\n",
    "        break\n",
    "    elif int(sayi) < rand:\n",
    "        print(\"Daha Yüksek Bir Sayı Giriniz.\")\n",
    "    elif int(sayi) > rand:\n",
    "        print(\"Daha Düşük Bir Sayı Giriniz.\")\n",
    "    elif int(sayi) == rand: \n",
    "        print(\"Tebrikler Oynu kazandınız.\")\n",
    "        break\n",
    "    elif int(sayi) > 100:\n",
    "        print(\"Lütfen 0 ile 100 Değerleri Arasında Bir Sayı Giriniz.\")\n",
    "    else:\n",
    "        print(\"Lütfen 0 ile 100 Değerleri Arasında Bir Sayı Giriniz.\")\n",
    "\n",
    "        \n",
    "        \n"
   ]
  },
  {
   "cell_type": "code",
   "execution_count": 34,
   "metadata": {},
   "outputs": [
    {
     "name": "stdout",
     "output_type": "stream",
     "text": [
      "15 : 5'in katıdır.\n",
      "85 : 5'in katıdır.\n",
      "65 : 5'in katıdır.\n",
      "30 : 5'in katıdır.\n",
      "10 : 5'in katıdır.\n",
      "20 : 5'in katıdır.\n",
      "5 : 5'in katıdır.\n",
      "Döngü Bitti\n",
      "5'in katı olan sayı adeti : 6\n"
     ]
    }
   ],
   "source": [
    "sayilar = [18,22,15,85,65,30,10,20,32,34,28,101,5,4,32]\n",
    "\n",
    "for sayi in sayilar:\n",
    "   if sayi%5 == 0:\n",
    "      print (str(sayi)+ (\" : 5'in katıdır.\"))\n",
    "      continue\n",
    "else:\n",
    "   print ('Döngü Bitti')\n",
    "print(\"5'in katı olan sayı adeti : \"+str(sayac))"
   ]
  },
  {
   "cell_type": "code",
   "execution_count": null,
   "metadata": {},
   "outputs": [],
   "source": []
  },
  {
   "cell_type": "code",
   "execution_count": null,
   "metadata": {},
   "outputs": [],
   "source": []
  },
  {
   "cell_type": "code",
   "execution_count": null,
   "metadata": {},
   "outputs": [],
   "source": []
  }
 ],
 "metadata": {
  "kernelspec": {
   "display_name": "Python 3",
   "language": "python",
   "name": "python3"
  },
  "language_info": {
   "codemirror_mode": {
    "name": "ipython",
    "version": 3
   },
   "file_extension": ".py",
   "mimetype": "text/x-python",
   "name": "python",
   "nbconvert_exporter": "python",
   "pygments_lexer": "ipython3",
   "version": "3.8.5"
  }
 },
 "nbformat": 4,
 "nbformat_minor": 4
}
