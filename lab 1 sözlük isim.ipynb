{
 "cells": [
  {
   "cell_type": "code",
   "execution_count": 1,
   "metadata": {},
   "outputs": [
    {
     "name": "stdout",
     "output_type": "stream",
     "text": [
      "Lütfen Adınızı Giriniz:huseyin\n",
      "numaranızı giriniz:2334\n",
      "Lütfen Adınızı Giriniz:hasan\n",
      "numaranızı giriniz:43545\n",
      "Öğrencinin Adı : hasan Öğrencinin no : 43545\n",
      "{'huseyin': 2334, 'hasan': 43545}\n"
     ]
    }
   ],
   "source": [
    "sozluk={}\n",
    "for i in range(0,2):\n",
    "    a=input(\"Lütfen Adınızı Giriniz:\")\n",
    "    b= int(input(\"numaranızı giriniz:\"))\n",
    "    sozluk[a]=b\n",
    "print(\"Öğrencinin Adı : {} Öğrencinin no : {}\".format(a,b))\n",
    "print(sozluk)"
   ]
  },
  {
   "cell_type": "code",
   "execution_count": null,
   "metadata": {},
   "outputs": [],
   "source": [
    "sozluk = {}\n",
    "i=0\n",
    "while(i<3):\n",
    "    a= input(\"Öğrenci Adı :\")\n",
    "    b= int(input(\"öğrenci No :\"))\n",
    "    print(\"Öğrencinin Adı : {} Öğrencinin Numarası : {}\".format(a,b))\n",
    "    i+=1\n",
    "    sozluk[a]= b\n",
    "\n",
    "print(sozluk)"
   ]
  }
 ],
 "metadata": {
  "kernelspec": {
   "display_name": "Python 3",
   "language": "python",
   "name": "python3"
  },
  "language_info": {
   "codemirror_mode": {
    "name": "ipython",
    "version": 3
   },
   "file_extension": ".py",
   "mimetype": "text/x-python",
   "name": "python",
   "nbconvert_exporter": "python",
   "pygments_lexer": "ipython3",
   "version": "3.8.5"
  }
 },
 "nbformat": 4,
 "nbformat_minor": 4
}
