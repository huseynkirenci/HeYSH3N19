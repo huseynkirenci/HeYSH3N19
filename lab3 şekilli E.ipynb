{
 "cells": [
  {
   "cell_type": "code",
   "execution_count": 1,
   "metadata": {},
   "outputs": [
    {
     "name": "stdout",
     "output_type": "stream",
     "text": [
      "1)e\n",
      "2)E\n",
      "Yukarıda Secmek İstediğiniz Kısmı Rakamla Belirtiniz: 2\n",
      "Sekilli E\n",
      "********\n",
      "********\n",
      "********\n",
      "***\n",
      "***\n",
      "********\n",
      "********\n",
      "********\n",
      "********\n",
      "***\n",
      "***\n",
      "********\n",
      "********\n",
      "********\n"
     ]
    }
   ],
   "source": [
    "def yazdirE():\n",
    "    print(\"E\")\n",
    "def sekilliEu():\n",
    "    print(\"********\\n********\")\n",
    "def sekilliEk():\n",
    "    print(\"***\\n***\")\n",
    "    \n",
    "print(\"1)e\\n2)E\")\n",
    "a= int(input(\"Yukarıda Secmek İstediğiniz Kısmı Rakamla Belirtiniz: \"))\n",
    "\n",
    "if a==1:\n",
    "    yazdirE()\n",
    "elif a==2:\n",
    "    print(\"Sekilli E\")\n",
    "    print(\"********\")\n",
    "    for i in range(1,3):\n",
    "        sekilliEu()\n",
    "        sekilliEk()\n",
    "        sekilliEu()\n",
    "    print(\"********\")\n",
    "        \n",
    "        \n",
    "        \n",
    "        \n",
    "        \n",
    "else:\n",
    "    print(\"Düzgün Bir Değer Giriniz...\")"
   ]
  },
  {
   "cell_type": "code",
   "execution_count": null,
   "metadata": {},
   "outputs": [],
   "source": []
  },
  {
   "cell_type": "code",
   "execution_count": null,
   "metadata": {},
   "outputs": [],
   "source": []
  }
 ],
 "metadata": {
  "kernelspec": {
   "display_name": "Python 3",
   "language": "python",
   "name": "python3"
  },
  "language_info": {
   "codemirror_mode": {
    "name": "ipython",
    "version": 3
   },
   "file_extension": ".py",
   "mimetype": "text/x-python",
   "name": "python",
   "nbconvert_exporter": "python",
   "pygments_lexer": "ipython3",
   "version": "3.8.5"
  }
 },
 "nbformat": 4,
 "nbformat_minor": 4
}
