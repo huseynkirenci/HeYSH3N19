{
 "cells": [
  {
   "cell_type": "code",
   "execution_count": 17,
   "metadata": {},
   "outputs": [
    {
     "name": "stdout",
     "output_type": "stream",
     "text": [
      "1) Asal olup olmaması için sorgulama\n",
      "2)Çıkış2\n",
      "Çıkış Yapılıyor...\n",
      "Çıkış Yapıldı.\n"
     ]
    }
   ],
   "source": [
    "def asal_mi(sayi):\n",
    "    if sayi == 1:\n",
    "        return False\n",
    "    elif sayi == 2:\n",
    "        return True\n",
    "    else:\n",
    "        for i in range(2,sayi):\n",
    "            if sayi % i == 0 :\n",
    "    \n",
    "                return False\n",
    "        \n",
    "        return True\n",
    "\n",
    "while True:\n",
    "    sayı = int(input(\"1) Asal olup olmaması için sorgulama\\n2)Çıkış\"))\n",
    "    if sayı == 2:\n",
    "        print(\"Çıkış Yapılıyor...\")\n",
    "        print(\"Çıkış Yapıldı.\")\n",
    "        break\n",
    "    elif sayı == 1 :\n",
    "        sayi = int(input(\"Sayı: \"))\n",
    "        if asal_mi(sayi):\n",
    "            print(\"{} Asal Sayıdır.\".format(sayi))\n",
    "        else:\n",
    "            print(\"{} Asal Sayı Değildir.\".format(sayi))\n",
    "    else:\n",
    "        print(\"Düzgün Bir Değer Giriniz!\")\n"
   ]
  },
  {
   "cell_type": "code",
   "execution_count": null,
   "metadata": {},
   "outputs": [],
   "source": [
    "\n",
    "    "
   ]
  }
 ],
 "metadata": {
  "kernelspec": {
   "display_name": "Python 3",
   "language": "python",
   "name": "python3"
  },
  "language_info": {
   "codemirror_mode": {
    "name": "ipython",
    "version": 3
   },
   "file_extension": ".py",
   "mimetype": "text/x-python",
   "name": "python",
   "nbconvert_exporter": "python",
   "pygments_lexer": "ipython3",
   "version": "3.8.5"
  }
 },
 "nbformat": 4,
 "nbformat_minor": 4
}
