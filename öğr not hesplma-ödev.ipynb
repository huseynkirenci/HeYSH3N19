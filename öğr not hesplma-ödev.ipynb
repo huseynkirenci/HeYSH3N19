{
 "cells": [
  {
   "cell_type": "code",
   "execution_count": null,
   "metadata": {},
   "outputs": [],
   "source": []
  },
  {
   "cell_type": "code",
   "execution_count": null,
   "metadata": {},
   "outputs": [],
   "source": []
  },
  {
   "cell_type": "code",
   "execution_count": 22,
   "metadata": {},
   "outputs": [
    {
     "name": "stdout",
     "output_type": "stream",
     "text": [
      "Öğrenci Sayısını Belirtiniz:  2\n",
      "Öğrencinin Adı:hasan\n",
      "Öğrencinin Adı:kara\n",
      "[['hasan'], ['kara']]\n",
      "1.Vize: 44\n",
      "2.Vize: 55\n",
      "Final: 66\n",
      "1.Vize: 77\n",
      "2.Vize: 88\n",
      "Final: 99\n",
      "Notlar:  [[44.0, 55.0, 66.0], [77.0, 88.0, 99.0]]\n",
      "Ortalama:  [[56.65], [89.65]]\n"
     ]
    }
   ],
   "source": [
    "liste = []\n",
    "İsimler = []\n",
    "Notlar = []\n",
    "ortalama = []\n",
    "def ogrenci_isimleriniGir():\n",
    "    global a\n",
    "    a=int(input(\"Öğrenci Sayısını Belirtiniz: \"))\n",
    "    for i in range(0,a):\n",
    "        b = input(\"Öğrencinin Adı:\")\n",
    "        İsimler1 = [b]\n",
    "        \n",
    "        İsimler.append(İsimler1)\n",
    "    print(İsimler)\n",
    "def Notları_Gir():\n",
    "    for i in range(0,a):\n",
    "        a1 = float(input(\"1.Vize: \"))\n",
    "        a2 = float(input(\"2.Vize: \"))\n",
    "        a3 = float(input(\"Final: \"))\n",
    "        notlar1 = [a1,a2,a3]\n",
    "        \n",
    "\n",
    "        Notlar.append(notlar1)\n",
    "    print(\"Notlar: \",Notlar)\n",
    "def Ortalama_Hesapla():    \n",
    "    for i in range(a):\n",
    "        vize1=Notlar[i][0]*25/100\n",
    "        vize2=Notlar[i][1]*35/100\n",
    "        final=Notlar[i][2]*40/100\n",
    "        ortalama1 =[vize1+vize2+final]\n",
    "    \n",
    "        ortalama.append(ortalama1)\n",
    "    print(\"Ortalama: \",ortalama)\n",
    "        \n",
    "ogrenci_isimleriniGir()\n",
    "Notları_Gir()\n",
    "Ortalama_Hesapla()\n",
    "\n",
    "\n"
   ]
  },
  {
   "cell_type": "code",
   "execution_count": null,
   "metadata": {},
   "outputs": [],
   "source": [
    "if a4<50:\n",
    "    print(\"Dersten Kaldınız.\")\n",
    "elif a4>=50:\n",
    "    print(\"Dersi Geçtiniz.\")\n",
    "else:\n",
    "    print(\"Yanlış Hesaplama Yaptınız.\")"
   ]
  },
  {
   "cell_type": "code",
   "execution_count": 11,
   "metadata": {},
   "outputs": [
    {
     "data": {
      "text/plain": [
       "<function list.index(value, start=0, stop=9223372036854775807, /)>"
      ]
     },
     "execution_count": 11,
     "metadata": {},
     "output_type": "execute_result"
    }
   ],
   "source": []
  },
  {
   "cell_type": "code",
   "execution_count": null,
   "metadata": {},
   "outputs": [],
   "source": []
  }
 ],
 "metadata": {
  "kernelspec": {
   "display_name": "Python 3",
   "language": "python",
   "name": "python3"
  },
  "language_info": {
   "codemirror_mode": {
    "name": "ipython",
    "version": 3
   },
   "file_extension": ".py",
   "mimetype": "text/x-python",
   "name": "python",
   "nbconvert_exporter": "python",
   "pygments_lexer": "ipython3",
   "version": "3.8.5"
  }
 },
 "nbformat": 4,
 "nbformat_minor": 4
}
