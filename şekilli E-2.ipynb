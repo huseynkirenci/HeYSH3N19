{
 "cells": [
  {
   "cell_type": "code",
   "execution_count": 3,
   "metadata": {},
   "outputs": [
    {
     "name": "stdout",
     "output_type": "stream",
     "text": [
      "1- Normal e Harfi Yazdir\n",
      "2- Sekilli e Harfi Yazdir\n",
      "3- Cikis Yap :\n",
      "3\n",
      "Cikis yapiliyor...\n"
     ]
    }
   ],
   "source": [
    "c=(\"********\")\n",
    "b=(\"***\")\n",
    "\n",
    "def E_Sekil(Girdi,b):\n",
    "    for i in range(0,2):\n",
    "        for i in range (0,2):\n",
    "            print(c ,end=\"\\n\")\n",
    "        for i in range(0,2):\n",
    "            print(b , end=\"\\n\")\n",
    "    \n",
    "    for i in range(0,2):\n",
    "        print(c, end=\"\\n\")\n",
    "        \n",
    "        \n",
    "\n",
    "while True:\n",
    "    \n",
    "    Girdi = int(input(\"1- Normal e Harfi Yazdir\\n2- Sekilli e Harfi Yazdir\\n\" + \n",
    "                      \"3- Cikis Yap :\\n\"))\n",
    "\n",
    "    if Girdi == 1:\n",
    "        print(\"E\")\n",
    "        continue\n",
    "    \n",
    "    elif Girdi == 2:\n",
    "        \n",
    "        E_Sekil(Girdi,b)\n",
    "        \n",
    "        continue\n",
    "        \n",
    "    elif Girdi == 3:\n",
    "        print(\"Cikis yapiliyor...\")\n",
    "        break\n",
    "else:\n",
    "    print(\"Hatali Bir Tuslama Yaptiniz...\")\n",
    "        "
   ]
  },
  {
   "cell_type": "code",
   "execution_count": null,
   "metadata": {},
   "outputs": [
    {
     "name": "stdout",
     "output_type": "stream",
     "text": [
      "1- Normal e Harfi Yazdir\n",
      "2- Sekilli e Harfi Yazdir\n",
      "3- Cikis Yap :2\n",
      "********\n",
      "********\n",
      "***\n",
      "***\n",
      "********\n",
      "********\n",
      "***\n",
      "***\n",
      "********\n",
      "********\n"
     ]
    }
   ],
   "source": [
    "c=(\"********\")\n",
    "b=(\"***\")\n",
    "\n",
    "def E_Sekil():\n",
    "    for i in range(0,2):\n",
    "        for i in range (0,2):\n",
    "            print(c ,end=\"\\n\")\n",
    "        for i in range(0,2):\n",
    "            print(b , end=\"\\n\")\n",
    "    \n",
    "    for i in range(0,2):\n",
    "        print(c, end=\"\\n\")\n",
    "        \n",
    "        \n",
    "\n",
    "while True:\n",
    "    \n",
    "    Girdi = int(input(\"1- Normal e Harfi Yazdir\\n2- Sekilli e Harfi Yazdir\\n\" + \n",
    "                      \"3- Cikis Yap :\"))\n",
    "\n",
    "    if Girdi == 1:\n",
    "        print(\"E\")\n",
    "        continue\n",
    "    \n",
    "    elif Girdi == 2:\n",
    "        \n",
    "        E_Sekil()\n",
    "        \n",
    "        continue\n",
    "        \n",
    "    elif Girdi == 3:\n",
    "        print(\"Cikis yapiliyor...\")\n",
    "        break\n",
    "else:\n",
    "    print(\"Hatali Bir Tuslama Yaptiniz...\")\n",
    "        "
   ]
  },
  {
   "cell_type": "code",
   "execution_count": 3,
   "metadata": {},
   "outputs": [
    {
     "name": "stdout",
     "output_type": "stream",
     "text": [
      "          *\n",
      "         * *\n",
      "        *   *\n",
      "       *     *\n",
      "      *       *\n",
      "     *         *\n",
      "    *           *\n",
      "   *             *\n",
      "  *               *\n",
      " *                 *\n",
      "* * * * * * * * * * * \n"
     ]
    }
   ],
   "source": [
    "for i in range(0,10): \n",
    "    for j in range (0,10-i):\n",
    "        print(\" \",end =\"\")\n",
    "    print(\"*\",end=\"\")\n",
    "    for j in range(0,2*i-1):\n",
    "        print(\" \", end=\"\")\n",
    "    if i ==0:\n",
    "        print(\"\", end=\"\")\n",
    "    \n",
    "    else:\n",
    "        print(\"*\", end=\"\")\n",
    "\n",
    "      \n",
    "    \n",
    "    \n",
    "    \n",
    "         \n",
    "    print()\n",
    "print(\"* \"*11)    \n"
   ]
  },
  {
   "cell_type": "code",
   "execution_count": null,
   "metadata": {},
   "outputs": [],
   "source": []
  }
 ],
 "metadata": {
  "kernelspec": {
   "display_name": "Python 3",
   "language": "python",
   "name": "python3"
  },
  "language_info": {
   "codemirror_mode": {
    "name": "ipython",
    "version": 3
   },
   "file_extension": ".py",
   "mimetype": "text/x-python",
   "name": "python",
   "nbconvert_exporter": "python",
   "pygments_lexer": "ipython3",
   "version": "3.8.5"
  }
 },
 "nbformat": 4,
 "nbformat_minor": 4
}
