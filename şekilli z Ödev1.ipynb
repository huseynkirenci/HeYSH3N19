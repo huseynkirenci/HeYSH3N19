{
 "cells": [
  {
   "cell_type": "code",
   "execution_count": 16,
   "metadata": {},
   "outputs": [
    {
     "name": "stdout",
     "output_type": "stream",
     "text": [
      "Litfen Kelime Giriniz: hitit\n",
      "H\n",
      "I\n",
      "T\n",
      "I\n",
      "T\n"
     ]
    }
   ],
   "source": [
    "a = input(\"Litfen Kelime Giriniz: \")\n",
    "b = a.upper()\n",
    "for i in b:\n",
    "    print(i)"
   ]
  },
  {
   "cell_type": "code",
   "execution_count": 17,
   "metadata": {},
   "outputs": [
    {
     "name": "stdout",
     "output_type": "stream",
     "text": [
      "**********\n",
      "**********\n",
      "       **\n",
      "      **\n",
      "     **\n",
      "    **\n",
      "   **\n",
      "  **\n",
      " **\n",
      "**********\n",
      "**********\n"
     ]
    }
   ],
   "source": [
    "def yazdir(miktar,karakter):\n",
    "    print(miktar * karakter)\n",
    "    \n",
    "for i in range(0,2):\n",
    "    yazdir(10,\"*\")\n",
    "for i in range(0,7):\n",
    "    for j in range (0,7-i):\n",
    "        print(\" \",end =\"\")\n",
    "    yazdir(2,\"*\")\n",
    "for i in range(0,2):\n",
    "    yazdir(10,\"*\")\n",
    "\n",
    "    \n",
    "    \n",
    "    "
   ]
  },
  {
   "cell_type": "code",
   "execution_count": 18,
   "metadata": {},
   "outputs": [
    {
     "name": "stdout",
     "output_type": "stream",
     "text": [
      "Kac Adet Sayi Girilecek : 100\n",
      "1.Dizi: [9977.628027916462, 9741.124444678504, 9611.86335582049, 9504.039255917774, 9443.946270748589, 9428.830942026534, 9372.064080549819, 9320.233170161653, 9248.751291008217, 9198.646833798482, 9100.728934999517, 8984.471783911331, 8855.882306649564, 8801.445406255894, 8777.359000031594, 8666.323021209962, 8626.534986022205, 8383.385811183036, 8289.192633964354, 8273.202563459354, 8156.967465020124, 8150.402299197558, 8029.22308361281, 8021.679057494546, 7863.802448989104, 7550.499059769495, 7423.777335550317, 7391.958840422461, 7341.280655866254, 7309.380982853503, 7254.175861877134, 7208.563512549371, 7120.350150654428, 7098.24977472393, 6946.930865118315, 6862.022208037116, 6802.146899397558, 6564.741088565837, 6561.538687290309, 6534.961110407732, 6450.54608063219, 6324.213371769715, 6285.50092799486, 6231.300464681957, 6194.223677035697, 6088.5409998212135, 5855.957971433807, 5715.008374173863, 5685.491632851914, 5642.492991131158, 5231.922971764822, 5168.569105743681, 4818.6240547146035, 4536.358292567746, 4297.973088284042, 4131.962326155425, 3994.9606598274827, 3839.319566498133, 3709.792849015616, 3534.459790423118, 3533.98408556287, 3451.0160164343806, 3448.974247402992, 3448.3192759079493, 3378.124600318845, 3203.975475081066, 3161.0172810814797, 3100.0360935972785, 3079.853715949472, 3027.6400373201823, 2937.1632133137564, 2838.1967362090286, 2835.6534399216707, 2792.778041525636, 2674.575104104554, 2650.483171493892, 2599.9586377617757, 2571.046110741845, 2390.6479537926075, 2368.5896197415937, 2088.1163971970927, 1989.5714089997723, 1968.34823114986, 1936.957081753379, 1925.619725878346, 1903.3273113665784, 1774.0109008145987, 1687.4767410184315, 1407.574300606889, 1335.1038464967824, 1270.7230626140306, 1152.874014600005, 1115.3228293901366, 1114.3353642555062, 759.4530396905204, 532.8861816485527, 476.2761657825915, 394.8471169811277, 251.50534852989458, 194.12805744168554]\n",
      "-------------------------------------------------------------------------------------------------\n",
      "2.Dizi[194.12805744168554, 251.50534852989458, 394.8471169811277, 476.2761657825915, 532.8861816485527, 759.4530396905204, 1114.3353642555062, 1115.3228293901366, 1152.874014600005, 1270.7230626140306, 1335.1038464967824, 1407.574300606889, 1687.4767410184315, 1774.0109008145987, 1903.3273113665784, 1925.619725878346, 1936.957081753379, 1968.34823114986, 1989.5714089997723, 2088.1163971970927, 2368.5896197415937, 2390.6479537926075, 2571.046110741845, 2599.9586377617757, 2650.483171493892, 2674.575104104554, 2792.778041525636, 2835.6534399216707, 2838.1967362090286, 2937.1632133137564, 3027.6400373201823, 3079.853715949472, 3100.0360935972785, 3161.0172810814797, 3203.975475081066, 3378.124600318845, 3448.3192759079493, 3448.974247402992, 3451.0160164343806, 3533.98408556287, 3534.459790423118, 3709.792849015616, 3839.319566498133, 3994.9606598274827, 4131.962326155425, 4297.973088284042, 4536.358292567746, 4818.6240547146035, 5168.569105743681, 5231.922971764822, 5642.492991131158, 5685.491632851914, 5715.008374173863, 5855.957971433807, 6088.5409998212135, 6194.223677035697, 6231.300464681957, 6285.50092799486, 6324.213371769715, 6450.54608063219, 6534.961110407732, 6561.538687290309, 6564.741088565837, 6802.146899397558, 6862.022208037116, 6946.930865118315, 7098.24977472393, 7120.350150654428, 7208.563512549371, 7254.175861877134, 7309.380982853503, 7341.280655866254, 7391.958840422461, 7423.777335550317, 7550.499059769495, 7863.802448989104, 8021.679057494546, 8029.22308361281, 8150.402299197558, 8156.967465020124, 8273.202563459354, 8289.192633964354, 8383.385811183036, 8626.534986022205, 8666.323021209962, 8777.359000031594, 8801.445406255894, 8855.882306649564, 8984.471783911331, 9100.728934999517, 9198.646833798482, 9248.751291008217, 9320.233170161653, 9372.064080549819, 9428.830942026534, 9443.946270748589, 9504.039255917774, 9611.86335582049, 9741.124444678504, 9977.628027916462]\n"
     ]
    }
   ],
   "source": [
    "a=\"-\"\n",
    "from random import uniform\n",
    "Adet = int(input(\"Kac Adet Sayi Girilecek : \"))\n",
    "\n",
    "liste = [0] * Adet\n",
    "\n",
    "liste2 = [0] * Adet\n",
    "\n",
    "\n",
    "for i in range(Adet):\n",
    "    liste[i] = uniform(1,10000)\n",
    "    \n",
    "\n",
    "\n",
    "    \n",
    "for i in range(Adet):\n",
    "    for j in range(Adet):\n",
    "        if liste[i]> liste[j]:\n",
    "            Gecici_değişken = liste[i]\n",
    "            liste[i] = liste[j]\n",
    "            liste2[i] = liste[j]\n",
    "            liste[j] = Gecici_değişken\n",
    "            liste2[j] = Gecici_değişken\n",
    "\n",
    "\n",
    "liste2.reverse()\n",
    "print(\"1.Dizi: {}\\n{}\\n2.Dizi{}\".format(liste,97*a,liste2))\n"
   ]
  },
  {
   "cell_type": "code",
   "execution_count": 104,
   "metadata": {},
   "outputs": [
    {
     "name": "stdout",
     "output_type": "stream",
     "text": [
      "capitalize: Merhaba ben hüseyin\n",
      "casefold: der fluss\n",
      "Dizeler birbirine eşittir.\n",
      "center: ******Hüseyin*******\n",
      "count: 3\n",
      "False\n"
     ]
    }
   ],
   "source": [
    "# capitalize() = Bu metot bir karakter metin dizisinin ilk harfini 'büyük' yazdırır.\n",
    "Metin = \"merhaba ben Hüseyin\"\n",
    "print(\"capitalize:\",Metin.capitalize())\n",
    "#casefold()    = Bu metot lower gibi küçükten büyüğe yazdırır farkı ise karşılaştırma gibi şeylerde kullanabilmesidir.\n",
    "a = \"der Fluß\"\n",
    "b = \"der Fluss\"\n",
    "print(\"casefold:\",a.casefold())\n",
    "if a.casefold()==b.casefold():\n",
    "    print(\"Dizeler birbirine eşittir.\")\n",
    "else:\n",
    "    print(\"Eşit değildir.\")\n",
    "#center()       = Bu metot ile ilkparametre de belirtilen boşluk kadar sağında ve solunda boşluk bırakılır.2. de ise boşluklara yazdırılacak ifadeyi yazarsın\n",
    "c =\"Hüseyin\"\n",
    "print(\"center:\",c.center(20,\"*\"))\n",
    "#count()        = Bu metot ile bir liste içinde kaç kere geçtiğini yazdırıyoruz.parametresi listenin içindeki elamnı belirtir.\n",
    "liste = [\"hüso\",\"hüseyin\",\"hüso\",\"hüso\"]\n",
    "print(\"count:\",liste.count(\"hüso\"))\n",
    "#encode()       = \n",
    "#endswith()     = \n",
    "message = \"Agalarla Eğlence\"\n",
    "print(message.endswith('hüso'))\n"
   ]
  },
  {
   "cell_type": "code",
   "execution_count": 19,
   "metadata": {},
   "outputs": [
    {
     "name": "stdout",
     "output_type": "stream",
     "text": [
      "Lütfen İstediğiniz Aralığın, En Yüksek Değerini Giriniz: 10\n",
      "2\n",
      "3\n",
      "5\n",
      "7\n",
      "\n",
      "ağiniz Sayiya Kadar \"4\" Adet Sayi Vardir\n"
     ]
    }
   ],
   "source": [
    "a = int(input(\"Lütfen İstediğiniz Aralığın, En Yüksek Değerini Giriniz: \"))\n",
    "\n",
    "if a < 0:\n",
    "    print(\"Seçtiğiniz Sayı Negatiftir\")\n",
    "    \n",
    "elif a == 0 or a == 1:\n",
    "    print(\"Seçtiğiniz Sayı Asal Degildir\")\n",
    "    \n",
    "elif a > 1:\n",
    "    \n",
    "\n",
    "    Asal_degiskeni = 0\n",
    "    Toplam = 0\n",
    "    Asal_Sayi_Adet = 0\n",
    "\n",
    "    for i in range(2,a+1):\n",
    "        Asal_degiskeni = 0\n",
    "        for j in range(2,i):\n",
    "            if i % j == 0:\n",
    "                Asal_degiskeni += 1\n",
    "                break\n",
    "        if Asal_degiskeni ==0:\n",
    "            print(i)\n",
    "            Asal_Sayi_Adet +=1\n",
    "\n",
    "    print(\"\\nağiniz Sayiya Kadar \\\"{0}\\\" Adet Sayi Vardir\".format(Asal_Sayi_Adet))\n",
    "else:\n",
    "    print(\"Lütfen Düzgün Bir Değer Giriniz...\")\n",
    "    "
   ]
  },
  {
   "cell_type": "code",
   "execution_count": 29,
   "metadata": {},
   "outputs": [
    {
     "name": "stdout",
     "output_type": "stream",
     "text": [
      "          *\n",
      "         * *\n",
      "        *   *\n",
      "       *     *\n",
      "      *       *\n",
      "     *         *\n",
      "    *           *\n",
      "   *             *\n",
      "  *               *\n",
      " *                 *\n"
     ]
    }
   ],
   "source": [
    "for i in range(0,10): \n",
    "    for j in range (0,10-i):\n",
    "        print(\" \",end =\"\")\n",
    "    print(\"*\",end=\"\")\n",
    "    for j in range(0,2*i-1):\n",
    "        print(\" \", end=\"\")\n",
    "    if i ==0:\n",
    "        print(\"\", end=\"\")\n",
    "    \n",
    "    else:\n",
    "        print(\"*\", end=\"\")\n",
    "\n",
    "      \n",
    "    \n",
    "    \n",
    "    \n",
    "         \n",
    "    print()"
   ]
  },
  {
   "cell_type": "code",
   "execution_count": 30,
   "metadata": {},
   "outputs": [
    {
     "name": "stdout",
     "output_type": "stream",
     "text": [
      "\n",
      "*\n",
      "**\n",
      "***\n",
      "****\n",
      "*****\n",
      "******\n",
      "*******\n",
      "********\n",
      "*********\n",
      "**********\n",
      "*********\n",
      "********\n",
      "*******\n",
      "******\n",
      "*****\n",
      "****\n",
      "***\n",
      "**\n",
      "*\n",
      "\n"
     ]
    }
   ],
   "source": [
    "def ciz(a,b,c):\n",
    "    if a>b and c==0:\n",
    "        ciz(a,b+1,0)\n",
    "    else:\n",
    "        c=1\n",
    "        if 0<b and c==1:\n",
    "            ciz(a,b-1,1)\n",
    "    print(\"*\"*b)\n",
    "   \n",
    "\n",
    "\n",
    "\n",
    "ciz(10,0,0)"
   ]
  },
  {
   "cell_type": "code",
   "execution_count": 37,
   "metadata": {},
   "outputs": [
    {
     "ename": "SyntaxError",
     "evalue": "invalid syntax (<ipython-input-37-ca6baff40a57>, line 17)",
     "output_type": "error",
     "traceback": [
      "\u001b[1;36m  File \u001b[1;32m\"<ipython-input-37-ca6baff40a57>\"\u001b[1;36m, line \u001b[1;32m17\u001b[0m\n\u001b[1;33m    whileTrue:\u001b[0m\n\u001b[1;37m              ^\u001b[0m\n\u001b[1;31mSyntaxError\u001b[0m\u001b[1;31m:\u001b[0m invalid syntax\n"
     ]
    }
   ],
   "source": [
    "class Hesap(object):\n",
    "    def __init__(self, sayi1, sayi2):\n",
    "        self.sayi1=sayi1\n",
    "        self.sayi2=sayi2\n",
    "    def toplam(self):\n",
    "        toplam=self.sayi1+self.sayi2\n",
    "        return toplam \n",
    "    def carpma(self):\n",
    "        carpim=self.sayi1*self.sayi2\n",
    "        return carpim\n",
    "    def bolme(self):\n",
    "        bolme=self.sayi1/self.sayi2\n",
    "        return bolme\n",
    "    def fark(self):\n",
    "        fark=self.sayi1-self.sayi2\n",
    "        return fark\n",
    "    whileTrue:\n",
    "        print(\"Toplama için (1), Çarpma için (2), Bölme için (3), Çıkarma için (4) tuşuna basınız.\")\n",
    "        secim=input(\"Yapmak istediğiniz işlemin numarasını girin (Çıkmak için H): \")\n",
    "        if secim==\"H\":\n",
    "            print(\"Çıkılıyor...\")\n",
    "            break\n",
    "        v1=int(input(\"Sayı 1: \"))\n",
    "        v2=int(input(\"Sayı 2: \"))\n",
    "        h1=Hesap(v1, v2)\n",
    "        if secim==\"1\":\n",
    "            toplama_sonucu=h1.toplam()\n",
    "            print(\"Toplam: {}\".format(toplama_sonucu))\n",
    "        elif secim==\"2\":\n",
    "            carpma_sonucu=h1.carpma()\n",
    "            print(\"Çarpma: {}\".format(carpma_sonucu)"
   ]
  },
  {
   "cell_type": "code",
   "execution_count": null,
   "metadata": {},
   "outputs": [],
   "source": []
  }
 ],
 "metadata": {
  "kernelspec": {
   "display_name": "Python 3",
   "language": "python",
   "name": "python3"
  },
  "language_info": {
   "codemirror_mode": {
    "name": "ipython",
    "version": 3
   },
   "file_extension": ".py",
   "mimetype": "text/x-python",
   "name": "python",
   "nbconvert_exporter": "python",
   "pygments_lexer": "ipython3",
   "version": "3.8.5"
  }
 },
 "nbformat": 4,
 "nbformat_minor": 4
}
